{
  "nbformat": 4,
  "nbformat_minor": 0,
  "metadata": {
    "colab": {
      "provenance": []
    },
    "kernelspec": {
      "name": "python3",
      "display_name": "Python 3"
    },
    "language_info": {
      "name": "python"
    }
  },
  "cells": [
    {
      "cell_type": "markdown",
      "source": [
        "- calcualtor with add, subtract, multiply, divide\n",
        "- ask user for input\n",
        "- do a datatype conversion\n",
        "- use print function\n",
        "- use at least one lambda function\n",
        "- use at least one python function\n"
      ],
      "metadata": {
        "id": "rqXONCyERaxx"
      }
    },
    {
      "cell_type": "code",
      "source": [
        "# Operations\n",
        "add = lambda x, y: x + y\n",
        "\n",
        "def subtract(x, y):\n",
        "    return x - y\n",
        "\n",
        "def multiply(x, y):\n",
        "    return x * y\n",
        "\n",
        "def divide(x, y):\n",
        "    if y == 0:\n",
        "        print(\"Error: cannot divide number by zero\")\n",
        "        return None\n",
        "    else:\n",
        "        return x / y\n",
        "\n",
        "# Dictionary to store operations\n",
        "operations = {\n",
        "    '1': add,\n",
        "    '2': subtract,\n",
        "    '3': multiply,\n",
        "    '4': divide\n",
        "}\n",
        "\n",
        "def calculator():\n",
        "    \"\"\"\n",
        "    Simple calculator program\n",
        "    \"\"\"\n",
        "    while True:\n",
        "        # Displaying the available operations\n",
        "        print(' Select the operation you want to perform: ')\n",
        "        print('add == 1')\n",
        "        print('subtract == 2')\n",
        "        print('multiply == 3')\n",
        "        print('divide == 4')\n",
        "        print('quit == 5')\n",
        "\n",
        "        # Get the user's operation of choice\n",
        "        operation = input(' Enter the operation you want to perform: ')\n",
        "\n",
        "        # Check if the user wants to quit\n",
        "        if operation == '5':\n",
        "            print(\"Sad to see you leave, but goodbye!\")\n",
        "            break\n",
        "\n",
        "        x = float(input(\" Enter the first number: \"))\n",
        "        y = float(input(\" Enter the second number: \"))\n",
        "\n",
        "        # Check if operation is valid\n",
        "        if operation in operations:\n",
        "            calculation_function = operations[operation]\n",
        "            answer = calculation_function(x, y)\n",
        "            if answer is not None:\n",
        "                print(f\"your answer is {answer}\")\n",
        "        else:\n",
        "            print(\"Invalid operation\")\n",
        "\n",
        "        # Ask the user if they want to continue calculating\n",
        "        continue_calculating = input(\"Do you want to perform another calculation? (y/n) \").lower()\n",
        "        if continue_calculating != 'y':\n",
        "            print(\"goodbye!\")\n",
        "            break\n",
        "\n",
        "calculator()"
      ],
      "metadata": {
        "colab": {
          "base_uri": "https://localhost:8080/"
        },
        "id": "zJXtZvUUS9St",
        "outputId": "c26a2c3f-5fab-454d-86bb-f9d5a07f49f4"
      },
      "execution_count": null,
      "outputs": [
        {
          "output_type": "stream",
          "name": "stdout",
          "text": [
            " Select the operation you want to perform: \n",
            "add == 1\n",
            "subtract == 2\n",
            "multiply == 3\n",
            "divide == 4\n",
            "quit == 5\n",
            " Enter the operation you want to perform: 1\n",
            " Enter the first number: 32\n",
            " Enter the second number: 43\n",
            "your answer is 75.0\n",
            "Do you want to perform another calculation? (y/n) n\n",
            "goodbye!\n"
          ]
        }
      ]
    },
    {
      "cell_type": "code",
      "execution_count": null,
      "metadata": {
        "id": "n2C8QG11Lc-d"
      },
      "outputs": [],
      "source": []
    }
  ]
}