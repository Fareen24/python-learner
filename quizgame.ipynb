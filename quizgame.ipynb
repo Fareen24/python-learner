{
  "nbformat": 4,
  "nbformat_minor": 0,
  "metadata": {
    "colab": {
      "provenance": []
    },
    "kernelspec": {
      "name": "python3",
      "display_name": "Python 3"
    },
    "language_info": {
      "name": "python"
    }
  },
  "cells": [
    {
      "cell_type": "code",
      "source": [],
      "metadata": {
        "id": "5yiay8AeSCVw"
      },
      "execution_count": null,
      "outputs": []
    },
    {
      "cell_type": "code",
      "execution_count": 1,
      "metadata": {
        "colab": {
          "base_uri": "https://localhost:8080/"
        },
        "id": "jJ-7VSrVOPus",
        "outputId": "224bc88b-7c88-4ded-8bbc-f591841defa8"
      },
      "outputs": [
        {
          "output_type": "stream",
          "name": "stdout",
          "text": [
            "Welcome to my quiz game!\n",
            "Do you want to play? y/n: y\n",
            "Amazing! let's play :)\n",
            "What does CPU stand for?: central processing unit\n",
            "Correct!\n",
            "What does GPU stand for?: graphical processing unit\n",
            "Correct!\n",
            "What does RAM stand for?: random access memory\n",
            "Correct!\n",
            "What does PSU stand for?: power suplly unit\n",
            "oopsie, that is incorrect!\n",
            " You got 3  questions correct!\n",
            " You got 75.0%.\n"
          ]
        }
      ],
      "source": [
        "print(\"Welcome to my quiz game!\")\n",
        "\n",
        "playing= input('Do you want to play? y/n: ') #asking user if they want to play or not\n",
        "score = 0\n",
        "\n",
        "if playing.lower() != \"y\":                 #using a condition, that is check if the variable playing is not yes then the quiz game will quit\n",
        "   quit()                                  #.lower() converts any string the user inpputs to lowercase\n",
        "else:\n",
        "   print(\"Amazing! let's play :)\")\n",
        "\n",
        "answer = input('What does CPU stand for?: ')\n",
        "if answer.lower() == \"central processing unit\":\n",
        "  print('Correct!')\n",
        "  score +=1\n",
        "else:\n",
        "  print('oopsie, that is incorrect!')\n",
        "\n",
        "answer = input('What does GPU stand for?: ')\n",
        "if answer.lower() == \"graphical processing unit\":\n",
        "  print('Correct!')\n",
        "  score +=1\n",
        "else:\n",
        "  print('oopsie, that is incorrect!')\n",
        "\n",
        "answer = input('What does RAM stand for?: ')\n",
        "if answer.lower() == \"random access memory\":\n",
        "  print('Correct!')\n",
        "  score +=1\n",
        "else:\n",
        "  print('oopsie, that is incorrect!')\n",
        "\n",
        "answer = input('What does PSU stand for?: ')\n",
        "if answer.lower() == \"power supply unit\":\n",
        "  print('Correct!')\n",
        "  score +=1\n",
        "else:\n",
        "  print('oopsie, that is incorrect!')\n",
        "\n",
        "print(\" You got \" +str(score) + \"  questions correct!\")\n",
        "print(\" You got \" +str((score/4)*100) + \"%.\")\n",
        "\n",
        "\n"
      ]
    }
  ]
}